{
 "cells": [
  {
   "cell_type": "markdown",
   "metadata": {},
   "source": [
    "# Evalution d'une situation au cours du temps."
   ]
  },
  {
   "cell_type": "markdown",
   "metadata": {},
   "source": [
    "\n",
    "Un fumeur décide d’arrêter de fumer. On choisit d’utiliser la modélisation suivante :\n",
    "  * s’il ne fume pas un jour donné, il ne fume pas le jour suivant avec une probabilité de 0,9.\n",
    "  * s’il fume un jour donné, il fume le jour suivant avec une probabilité de 0,6.\n",
    "  \n",
    "On appelle $p_n$ la probabilité de ne pas fumer le $n^{ième}$ jour après sa décision d’arrêter de fumer et $q_n$, la probabilité de fumer le $n^{ième}$ jour après sa décision d’arrêter de fumer.\n",
    "\n",
    "On suppose que $p_0 = 0$ et $q_0 = 1$ et $\\left \\{\n",
    "\\begin{array}{rcl}\n",
    "p_{n+1}&=&0,9p_n+0,4q_n \\\\\n",
    "q_{n+1}&=&0,1p_n+0,6q_n\n",
    "\\end{array}\n",
    "\\right.$"
   ]
  },
  {
   "cell_type": "markdown",
   "metadata": {},
   "source": [
    "## Modélisation"
   ]
  },
  {
   "cell_type": "code",
   "execution_count": 1,
   "metadata": {},
   "outputs": [],
   "source": [
    "def fume(n):\n",
    "    \"\"\"Renvoie la probabilité que le fumeur fume le jour n\"\"\"\n",
    "    p = 0\n",
    "    q = 1\n",
    "    for i in range(n + 1):\n",
    "        p, q = 0.9 * p + 0.4 * q, 0.1 * p + 0.6 * q\n",
    "    return q"
   ]
  },
  {
   "cell_type": "code",
   "execution_count": 2,
   "metadata": {},
   "outputs": [
    {
     "data": {
      "text/plain": [
       "0.20000000000000046"
      ]
     },
     "execution_count": 2,
     "metadata": {},
     "output_type": "execute_result"
    }
   ],
   "source": [
    "fume(154)"
   ]
  },
  {
   "cell_type": "code",
   "execution_count": 3,
   "metadata": {},
   "outputs": [],
   "source": [
    "def ne_fume_plus(n):\n",
    "    \"\"\"Renvoie la probabilité que le fumeur ne fume plus le jour n\"\"\"\n",
    "    return 1 - fume(n)"
   ]
  },
  {
   "cell_type": "code",
   "execution_count": 5,
   "metadata": {},
   "outputs": [
    {
     "data": {
      "text/plain": [
       "0.7999999996274707"
      ]
     },
     "execution_count": 5,
     "metadata": {},
     "output_type": "execute_result"
    }
   ],
   "source": [
    "ne_fume_plus(30)"
   ]
  },
  {
   "cell_type": "markdown",
   "metadata": {},
   "source": [
    "## Etude de la suite $(p_n)$"
   ]
  },
  {
   "cell_type": "code",
   "execution_count": 6,
   "metadata": {},
   "outputs": [
    {
     "data": {
      "image/png": "[encoded data removed]",
      "text/plain": [
       "<Figure size 432x288 with 1 Axes>"
      ]
     },
     "metadata": {
      "needs_background": "light"
     },
     "output_type": "display_data"
    }
   ],
   "source": [
    "import matplotlib.pyplot as plt\n",
    "\n",
    "x = [n for n in range(20)]\n",
    "y = [ne_fume_plus(n) for n in range(20)]\n",
    "z = [fume(n) for n in range(20)]\n",
    "plt.scatter(x, y, c = 'r', marker = '>')\n",
    "plt.scatter(x, z, c = 'b', marker = '*')\n",
    "plt.show()"
   ]
  },
  {
   "cell_type": "markdown",
   "metadata": {},
   "source": [
    "* $(p_n)$ semble croissante."
   ]
  },
  {
   "cell_type": "markdown",
   "metadata": {},
   "source": [
    "* $p_n+q_n=1$. On en déduit que $p_{n+1}=0,9p_n+0.4(1-p_n)=-0,5p_n+0,4$"
   ]
  },
  {
   "cell_type": "markdown",
   "metadata": {},
   "source": [
    "* On pose $u_n=p_n-\\dfrac{4}{5}$.\n",
    "\n",
    "$u_{n+1}=p_{n+1}-\\dfrac{4}{5} = \\dfrac{1}{2}p_n+\\dfrac{4}{10}-\\dfrac{4}{5} = \\dfrac{1}{2}p_n-\\dfrac{4}{10}=\\dfrac{1}{2}\\left(p_n-\\dfrac{4}{5}\\right) = \\dfrac{1}{2}u_n$\n",
    "\n",
    "$(u_n)$ est une suite géométrique de raison $\\dfrac{1}{2}$ avec $u_0=p_0-\\dfrac{4}{5}=-\\dfrac{4}{5}$"
   ]
  },
  {
   "cell_type": "markdown",
   "metadata": {},
   "source": [
    "* $p_n=u_n+\\dfrac{4}{5}=-\\dfrac{4}{5}\\left(\\dfrac{1}{2}\\right)^n+\\dfrac{4}{5} = \\dfrac{4}{5}\\left(1-\\left(\\dfrac{1}{2}\\right)^n\\right)$"
   ]
  },
  {
   "cell_type": "code",
   "execution_count": 7,
   "metadata": {},
   "outputs": [
    {
     "name": "stdout",
     "output_type": "stream",
     "text": [
      "0.799609375\n",
      "0.7999999999999996\n",
      "0.7999999999999996\n",
      "0.7999999999999996\n",
      "0.7999999999999996\n",
      "0.7999999999999996\n",
      "0.7999999999999996\n"
     ]
    }
   ],
   "source": [
    "for i in (10, 100, 1000, 10000, 100000, 1000000, 10000000):\n",
    "    print(ne_fume_plus(i))"
   ]
  },
  {
   "cell_type": "markdown",
   "metadata": {},
   "source": [
    "On conjecture que $\\lim\\limits_{n \\rightarrow +\\infty} p = 0,8$"
   ]
  },
  {
   "cell_type": "code",
   "execution_count": 10,
   "metadata": {},
   "outputs": [],
   "source": [
    "def certitude():\n",
    "    n = 0\n",
    "    while abs(0.8 - ne_fume_plus(n)) >= 0.01:\n",
    "        n = n + 1\n",
    "    return n"
   ]
  },
  {
   "cell_type": "code",
   "execution_count": 11,
   "metadata": {},
   "outputs": [
    {
     "data": {
      "text/plain": [
       "6"
      ]
     },
     "execution_count": 11,
     "metadata": {},
     "output_type": "execute_result"
    }
   ],
   "source": [
    "certitude()"
   ]
  },
  {
   "cell_type": "markdown",
   "metadata": {},
   "source": [
    "On trouve $n=6$. A partir du $6^e$ jour, on considère que le fumeur a 80% de chances d'arrêter de fumer."
   ]
  }
 ],
 "metadata": {
  "kernelspec": {
   "display_name": "Python 3",
   "language": "python",
   "name": "python3"
  },
  "language_info": {
   "codemirror_mode": {
    "name": "ipython",
    "version": 3
   },
   "file_extension": ".py",
   "mimetype": "text/x-python",
   "name": "python",
   "nbconvert_exporter": "python",
   "pygments_lexer": "ipython3",
   "version": "3.8.5"
  }
 },
 "nbformat": 4,
 "nbformat_minor": 4
}
